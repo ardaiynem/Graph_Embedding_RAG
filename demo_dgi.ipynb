{
 "cells": [
  {
   "cell_type": "code",
   "execution_count": 1,
   "metadata": {},
   "outputs": [],
   "source": [
    "from graph_embedding_rag import GraphEmbeddingRAG, DeepGraphInfomaxModel\n",
    "from graph_embedding_rag.config import NEO4J_URI, NEO4J_USER, NEO4J_PASSWORD"
   ]
  },
  {
   "cell_type": "code",
   "execution_count": 2,
   "metadata": {},
   "outputs": [
    {
     "name": "stderr",
     "output_type": "stream",
     "text": [
      "Received notification from DBMS server: {severity: WARNING} {code: Neo.ClientNotification.Statement.FeatureDeprecationWarning} {category: DEPRECATION} {title: This feature is deprecated and will be removed in future versions.} {description: The query used a deprecated function: `id`.} {position: line: 1, column: 18, offset: 17} for query: 'MATCH (n) RETURN id(n) AS id, labels(n) AS labels, properties(n) AS props SKIP 0 LIMIT 1000'\n",
      "Received notification from DBMS server: {severity: WARNING} {code: Neo.ClientNotification.Statement.FeatureDeprecationWarning} {category: DEPRECATION} {title: This feature is deprecated and will be removed in future versions.} {description: The query used a deprecated function: `id`.} {position: line: 1, column: 18, offset: 17} for query: 'MATCH (n) RETURN id(n) AS id, labels(n) AS labels, properties(n) AS props SKIP 1000 LIMIT 1000'\n",
      "Received notification from DBMS server: {severity: WARNING} {code: Neo.ClientNotification.Statement.FeatureDeprecationWarning} {category: DEPRECATION} {title: This feature is deprecated and will be removed in future versions.} {description: The query used a deprecated function: `id`.} {position: line: 1, column: 18, offset: 17} for query: 'MATCH (n) RETURN id(n) AS id, labels(n) AS labels, properties(n) AS props SKIP 2000 LIMIT 1000'\n",
      "Received notification from DBMS server: {severity: WARNING} {code: Neo.ClientNotification.Statement.FeatureDeprecationWarning} {category: DEPRECATION} {title: This feature is deprecated and will be removed in future versions.} {description: The query used a deprecated function: `id`.} {position: line: 1, column: 25, offset: 24} for query: 'MATCH ()-[r]->() RETURN id(startNode(r)) AS source, id(endNode(r)) AS target, type(r) AS type SKIP 0 LIMIT 1000'\n",
      "Received notification from DBMS server: {severity: WARNING} {code: Neo.ClientNotification.Statement.FeatureDeprecationWarning} {category: DEPRECATION} {title: This feature is deprecated and will be removed in future versions.} {description: The query used a deprecated function: `id`.} {position: line: 1, column: 53, offset: 52} for query: 'MATCH ()-[r]->() RETURN id(startNode(r)) AS source, id(endNode(r)) AS target, type(r) AS type SKIP 0 LIMIT 1000'\n",
      "Received notification from DBMS server: {severity: WARNING} {code: Neo.ClientNotification.Statement.FeatureDeprecationWarning} {category: DEPRECATION} {title: This feature is deprecated and will be removed in future versions.} {description: The query used a deprecated function: `id`.} {position: line: 1, column: 25, offset: 24} for query: 'MATCH ()-[r]->() RETURN id(startNode(r)) AS source, id(endNode(r)) AS target, type(r) AS type SKIP 1000 LIMIT 1000'\n",
      "Received notification from DBMS server: {severity: WARNING} {code: Neo.ClientNotification.Statement.FeatureDeprecationWarning} {category: DEPRECATION} {title: This feature is deprecated and will be removed in future versions.} {description: The query used a deprecated function: `id`.} {position: line: 1, column: 53, offset: 52} for query: 'MATCH ()-[r]->() RETURN id(startNode(r)) AS source, id(endNode(r)) AS target, type(r) AS type SKIP 1000 LIMIT 1000'\n",
      "Received notification from DBMS server: {severity: WARNING} {code: Neo.ClientNotification.Statement.FeatureDeprecationWarning} {category: DEPRECATION} {title: This feature is deprecated and will be removed in future versions.} {description: The query used a deprecated function: `id`.} {position: line: 1, column: 25, offset: 24} for query: 'MATCH ()-[r]->() RETURN id(startNode(r)) AS source, id(endNode(r)) AS target, type(r) AS type SKIP 2000 LIMIT 1000'\n",
      "Received notification from DBMS server: {severity: WARNING} {code: Neo.ClientNotification.Statement.FeatureDeprecationWarning} {category: DEPRECATION} {title: This feature is deprecated and will be removed in future versions.} {description: The query used a deprecated function: `id`.} {position: line: 1, column: 53, offset: 52} for query: 'MATCH ()-[r]->() RETURN id(startNode(r)) AS source, id(endNode(r)) AS target, type(r) AS type SKIP 2000 LIMIT 1000'\n",
      "Received notification from DBMS server: {severity: WARNING} {code: Neo.ClientNotification.Statement.FeatureDeprecationWarning} {category: DEPRECATION} {title: This feature is deprecated and will be removed in future versions.} {description: The query used a deprecated function: `id`.} {position: line: 1, column: 25, offset: 24} for query: 'MATCH ()-[r]->() RETURN id(startNode(r)) AS source, id(endNode(r)) AS target, type(r) AS type SKIP 3000 LIMIT 1000'\n",
      "Received notification from DBMS server: {severity: WARNING} {code: Neo.ClientNotification.Statement.FeatureDeprecationWarning} {category: DEPRECATION} {title: This feature is deprecated and will be removed in future versions.} {description: The query used a deprecated function: `id`.} {position: line: 1, column: 53, offset: 52} for query: 'MATCH ()-[r]->() RETURN id(startNode(r)) AS source, id(endNode(r)) AS target, type(r) AS type SKIP 3000 LIMIT 1000'\n",
      "Received notification from DBMS server: {severity: WARNING} {code: Neo.ClientNotification.Statement.FeatureDeprecationWarning} {category: DEPRECATION} {title: This feature is deprecated and will be removed in future versions.} {description: The query used a deprecated function: `id`.} {position: line: 1, column: 25, offset: 24} for query: 'MATCH ()-[r]->() RETURN id(startNode(r)) AS source, id(endNode(r)) AS target, type(r) AS type SKIP 4000 LIMIT 1000'\n",
      "Received notification from DBMS server: {severity: WARNING} {code: Neo.ClientNotification.Statement.FeatureDeprecationWarning} {category: DEPRECATION} {title: This feature is deprecated and will be removed in future versions.} {description: The query used a deprecated function: `id`.} {position: line: 1, column: 53, offset: 52} for query: 'MATCH ()-[r]->() RETURN id(startNode(r)) AS source, id(endNode(r)) AS target, type(r) AS type SKIP 4000 LIMIT 1000'\n",
      "Received notification from DBMS server: {severity: WARNING} {code: Neo.ClientNotification.Statement.FeatureDeprecationWarning} {category: DEPRECATION} {title: This feature is deprecated and will be removed in future versions.} {description: The query used a deprecated function: `id`.} {position: line: 1, column: 25, offset: 24} for query: 'MATCH ()-[r]->() RETURN id(startNode(r)) AS source, id(endNode(r)) AS target, type(r) AS type SKIP 5000 LIMIT 1000'\n",
      "Received notification from DBMS server: {severity: WARNING} {code: Neo.ClientNotification.Statement.FeatureDeprecationWarning} {category: DEPRECATION} {title: This feature is deprecated and will be removed in future versions.} {description: The query used a deprecated function: `id`.} {position: line: 1, column: 53, offset: 52} for query: 'MATCH ()-[r]->() RETURN id(startNode(r)) AS source, id(endNode(r)) AS target, type(r) AS type SKIP 5000 LIMIT 1000'\n",
      "Received notification from DBMS server: {severity: WARNING} {code: Neo.ClientNotification.Statement.FeatureDeprecationWarning} {category: DEPRECATION} {title: This feature is deprecated and will be removed in future versions.} {description: The query used a deprecated function: `id`.} {position: line: 1, column: 25, offset: 24} for query: 'MATCH ()-[r]->() RETURN id(startNode(r)) AS source, id(endNode(r)) AS target, type(r) AS type SKIP 6000 LIMIT 1000'\n",
      "Received notification from DBMS server: {severity: WARNING} {code: Neo.ClientNotification.Statement.FeatureDeprecationWarning} {category: DEPRECATION} {title: This feature is deprecated and will be removed in future versions.} {description: The query used a deprecated function: `id`.} {position: line: 1, column: 53, offset: 52} for query: 'MATCH ()-[r]->() RETURN id(startNode(r)) AS source, id(endNode(r)) AS target, type(r) AS type SKIP 6000 LIMIT 1000'\n",
      "Received notification from DBMS server: {severity: WARNING} {code: Neo.ClientNotification.Statement.FeatureDeprecationWarning} {category: DEPRECATION} {title: This feature is deprecated and will be removed in future versions.} {description: The query used a deprecated function: `id`.} {position: line: 1, column: 25, offset: 24} for query: 'MATCH ()-[r]->() RETURN id(startNode(r)) AS source, id(endNode(r)) AS target, type(r) AS type SKIP 7000 LIMIT 1000'\n",
      "Received notification from DBMS server: {severity: WARNING} {code: Neo.ClientNotification.Statement.FeatureDeprecationWarning} {category: DEPRECATION} {title: This feature is deprecated and will be removed in future versions.} {description: The query used a deprecated function: `id`.} {position: line: 1, column: 53, offset: 52} for query: 'MATCH ()-[r]->() RETURN id(startNode(r)) AS source, id(endNode(r)) AS target, type(r) AS type SKIP 7000 LIMIT 1000'\n",
      "Received notification from DBMS server: {severity: WARNING} {code: Neo.ClientNotification.Statement.FeatureDeprecationWarning} {category: DEPRECATION} {title: This feature is deprecated and will be removed in future versions.} {description: The query used a deprecated function: `id`.} {position: line: 1, column: 25, offset: 24} for query: 'MATCH ()-[r]->() RETURN id(startNode(r)) AS source, id(endNode(r)) AS target, type(r) AS type SKIP 8000 LIMIT 1000'\n",
      "Received notification from DBMS server: {severity: WARNING} {code: Neo.ClientNotification.Statement.FeatureDeprecationWarning} {category: DEPRECATION} {title: This feature is deprecated and will be removed in future versions.} {description: The query used a deprecated function: `id`.} {position: line: 1, column: 53, offset: 52} for query: 'MATCH ()-[r]->() RETURN id(startNode(r)) AS source, id(endNode(r)) AS target, type(r) AS type SKIP 8000 LIMIT 1000'\n",
      "Received notification from DBMS server: {severity: WARNING} {code: Neo.ClientNotification.Statement.FeatureDeprecationWarning} {category: DEPRECATION} {title: This feature is deprecated and will be removed in future versions.} {description: The query used a deprecated function: `id`.} {position: line: 1, column: 25, offset: 24} for query: 'MATCH ()-[r]->() RETURN id(startNode(r)) AS source, id(endNode(r)) AS target, type(r) AS type SKIP 9000 LIMIT 1000'\n",
      "Received notification from DBMS server: {severity: WARNING} {code: Neo.ClientNotification.Statement.FeatureDeprecationWarning} {category: DEPRECATION} {title: This feature is deprecated and will be removed in future versions.} {description: The query used a deprecated function: `id`.} {position: line: 1, column: 53, offset: 52} for query: 'MATCH ()-[r]->() RETURN id(startNode(r)) AS source, id(endNode(r)) AS target, type(r) AS type SKIP 9000 LIMIT 1000'\n",
      "Received notification from DBMS server: {severity: WARNING} {code: Neo.ClientNotification.Statement.FeatureDeprecationWarning} {category: DEPRECATION} {title: This feature is deprecated and will be removed in future versions.} {description: The query used a deprecated function: `id`.} {position: line: 1, column: 25, offset: 24} for query: 'MATCH ()-[r]->() RETURN id(startNode(r)) AS source, id(endNode(r)) AS target, type(r) AS type SKIP 10000 LIMIT 1000'\n",
      "Received notification from DBMS server: {severity: WARNING} {code: Neo.ClientNotification.Statement.FeatureDeprecationWarning} {category: DEPRECATION} {title: This feature is deprecated and will be removed in future versions.} {description: The query used a deprecated function: `id`.} {position: line: 1, column: 53, offset: 52} for query: 'MATCH ()-[r]->() RETURN id(startNode(r)) AS source, id(endNode(r)) AS target, type(r) AS type SKIP 10000 LIMIT 1000'\n",
      "Received notification from DBMS server: {severity: WARNING} {code: Neo.ClientNotification.Statement.FeatureDeprecationWarning} {category: DEPRECATION} {title: This feature is deprecated and will be removed in future versions.} {description: The query used a deprecated function: `id`.} {position: line: 1, column: 25, offset: 24} for query: 'MATCH ()-[r]->() RETURN id(startNode(r)) AS source, id(endNode(r)) AS target, type(r) AS type SKIP 11000 LIMIT 1000'\n",
      "Received notification from DBMS server: {severity: WARNING} {code: Neo.ClientNotification.Statement.FeatureDeprecationWarning} {category: DEPRECATION} {title: This feature is deprecated and will be removed in future versions.} {description: The query used a deprecated function: `id`.} {position: line: 1, column: 53, offset: 52} for query: 'MATCH ()-[r]->() RETURN id(startNode(r)) AS source, id(endNode(r)) AS target, type(r) AS type SKIP 11000 LIMIT 1000'\n",
      "Received notification from DBMS server: {severity: WARNING} {code: Neo.ClientNotification.Statement.FeatureDeprecationWarning} {category: DEPRECATION} {title: This feature is deprecated and will be removed in future versions.} {description: The query used a deprecated function: `id`.} {position: line: 1, column: 25, offset: 24} for query: 'MATCH ()-[r]->() RETURN id(startNode(r)) AS source, id(endNode(r)) AS target, type(r) AS type SKIP 12000 LIMIT 1000'\n",
      "Received notification from DBMS server: {severity: WARNING} {code: Neo.ClientNotification.Statement.FeatureDeprecationWarning} {category: DEPRECATION} {title: This feature is deprecated and will be removed in future versions.} {description: The query used a deprecated function: `id`.} {position: line: 1, column: 53, offset: 52} for query: 'MATCH ()-[r]->() RETURN id(startNode(r)) AS source, id(endNode(r)) AS target, type(r) AS type SKIP 12000 LIMIT 1000'\n",
      "Received notification from DBMS server: {severity: WARNING} {code: Neo.ClientNotification.Statement.FeatureDeprecationWarning} {category: DEPRECATION} {title: This feature is deprecated and will be removed in future versions.} {description: The query used a deprecated function: `id`.} {position: line: 1, column: 25, offset: 24} for query: 'MATCH ()-[r]->() RETURN id(startNode(r)) AS source, id(endNode(r)) AS target, type(r) AS type SKIP 13000 LIMIT 1000'\n",
      "Received notification from DBMS server: {severity: WARNING} {code: Neo.ClientNotification.Statement.FeatureDeprecationWarning} {category: DEPRECATION} {title: This feature is deprecated and will be removed in future versions.} {description: The query used a deprecated function: `id`.} {position: line: 1, column: 53, offset: 52} for query: 'MATCH ()-[r]->() RETURN id(startNode(r)) AS source, id(endNode(r)) AS target, type(r) AS type SKIP 13000 LIMIT 1000'\n"
     ]
    },
    {
     "name": "stdout",
     "output_type": "stream",
     "text": [
      "Using device: cuda\n"
     ]
    },
    {
     "ename": "AttributeError",
     "evalue": "'Tensor' object has no attribute 'num_features'",
     "output_type": "error",
     "traceback": [
      "\u001b[0;31m---------------------------------------------------------------------------\u001b[0m",
      "\u001b[0;31mAttributeError\u001b[0m                            Traceback (most recent call last)",
      "Cell \u001b[0;32mIn[2], line 8\u001b[0m\n\u001b[1;32m      5\u001b[0m rag_dgi\u001b[38;5;241m.\u001b[39mfetch_graph_data()\n\u001b[1;32m      7\u001b[0m \u001b[38;5;66;03m# 2: Create embeddings from the knowledge graph by the choosen method (Node2Vec in this case)\u001b[39;00m\n\u001b[0;32m----> 8\u001b[0m \u001b[43mrag_dgi\u001b[49m\u001b[38;5;241;43m.\u001b[39;49m\u001b[43mcreate_embeddings\u001b[49m\u001b[43m(\u001b[49m\u001b[43m)\u001b[49m\n\u001b[1;32m     10\u001b[0m \u001b[38;5;66;03m# 3: Add embeddings to the vector DB (Stored in neo4j in this case)\u001b[39;00m\n\u001b[1;32m     11\u001b[0m rag_dgi\u001b[38;5;241m.\u001b[39madd_to_vector_store()\n",
      "File \u001b[0;32m~/Desktop/VariantGen/variant_gen_rag/graph_embedding_rag/rag/graph_embedding_rag.py:105\u001b[0m, in \u001b[0;36mGraphEmbeddingRAG.create_embeddings\u001b[0;34m(self)\u001b[0m\n\u001b[1;32m    102\u001b[0m device \u001b[38;5;241m=\u001b[39m torch\u001b[38;5;241m.\u001b[39mdevice(\u001b[38;5;124m\"\u001b[39m\u001b[38;5;124mcuda\u001b[39m\u001b[38;5;124m\"\u001b[39m \u001b[38;5;28;01mif\u001b[39;00m torch\u001b[38;5;241m.\u001b[39mcuda\u001b[38;5;241m.\u001b[39mis_available() \u001b[38;5;28;01melse\u001b[39;00m \u001b[38;5;124m\"\u001b[39m\u001b[38;5;124mcpu\u001b[39m\u001b[38;5;124m\"\u001b[39m)\n\u001b[1;32m    103\u001b[0m \u001b[38;5;28mprint\u001b[39m(\u001b[38;5;124mf\u001b[39m\u001b[38;5;124m\"\u001b[39m\u001b[38;5;124mUsing device: \u001b[39m\u001b[38;5;132;01m{\u001b[39;00mdevice\u001b[38;5;132;01m}\u001b[39;00m\u001b[38;5;124m\"\u001b[39m)\n\u001b[0;32m--> 105\u001b[0m model \u001b[38;5;241m=\u001b[39m \u001b[38;5;28;43mself\u001b[39;49m\u001b[38;5;241;43m.\u001b[39;49m\u001b[43membedding_model\u001b[49m\u001b[38;5;241;43m.\u001b[39;49m\u001b[43mcreate_model\u001b[49m\u001b[43m(\u001b[49m\u001b[43medge_index\u001b[49m\u001b[43m,\u001b[49m\u001b[43m \u001b[49m\u001b[43mdevice\u001b[49m\u001b[43m)\u001b[49m\n\u001b[1;32m    106\u001b[0m \u001b[38;5;28mself\u001b[39m\u001b[38;5;241m.\u001b[39membedding_model\u001b[38;5;241m.\u001b[39mtrain_model(model, device)\n\u001b[1;32m    107\u001b[0m \u001b[38;5;28mself\u001b[39m\u001b[38;5;241m.\u001b[39membeddings \u001b[38;5;241m=\u001b[39m \u001b[38;5;28mself\u001b[39m\u001b[38;5;241m.\u001b[39membedding_model\u001b[38;5;241m.\u001b[39mgenerate_embeddings(\n\u001b[1;32m    108\u001b[0m     model, device, \u001b[38;5;28mself\u001b[39m\u001b[38;5;241m.\u001b[39mgraph\n\u001b[1;32m    109\u001b[0m )\n",
      "File \u001b[0;32m~/Desktop/VariantGen/variant_gen_rag/graph_embedding_rag/models/deepgraphinfomax_model.py:24\u001b[0m, in \u001b[0;36mDeepGraphInfomaxModel.create_model\u001b[0;34m(self, data, device)\u001b[0m\n\u001b[1;32m     23\u001b[0m \u001b[38;5;28;01mdef\u001b[39;00m \u001b[38;5;21mcreate_model\u001b[39m(\u001b[38;5;28mself\u001b[39m, data, device):\n\u001b[0;32m---> 24\u001b[0m     in_channels \u001b[38;5;241m=\u001b[39m \u001b[43mdata\u001b[49m\u001b[38;5;241;43m.\u001b[39;49m\u001b[43mnum_features\u001b[49m\n\u001b[1;32m     25\u001b[0m     out_channels \u001b[38;5;241m=\u001b[39m \u001b[38;5;28mself\u001b[39m\u001b[38;5;241m.\u001b[39membedding_dim\n\u001b[1;32m     26\u001b[0m     encoder \u001b[38;5;241m=\u001b[39m GCNEncoder(in_channels, out_channels)\n",
      "\u001b[0;31mAttributeError\u001b[0m: 'Tensor' object has no attribute 'num_features'"
     ]
    }
   ],
   "source": [
    "# 0: Initialize RAG object\n",
    "rag_dgi = GraphEmbeddingRAG(NEO4J_URI, NEO4J_USER, NEO4J_PASSWORD, model_class=DeepGraphInfomaxModel)\n",
    "\n",
    "# 1: Fetch neo4j graph data and consturct a local networkx graph\n",
    "rag_dgi.fetch_graph_data()\n",
    "\n",
    "# 2: Create embeddings from the knowledge graph by the choosen method (Node2Vec in this case)\n",
    "rag_dgi.create_embeddings()\n",
    "\n",
    "# 3: Add embeddings to the vector DB (Stored in neo4j in this case)\n",
    "rag_dgi.add_to_vector_store()\n",
    "\n",
    "# 4: Initialize the embedding model, index and query engine for llamaindex\n",
    "rag_dgi.init_index_and_query_engine()"
   ]
  },
  {
   "cell_type": "code",
   "execution_count": null,
   "metadata": {},
   "outputs": [],
   "source": [
    "# 5: Run an example prompt\n",
    "rag_dgi.run_prompt(\"Who follows Tina Guerrero ?\")"
   ]
  }
 ],
 "metadata": {
  "kernelspec": {
   "display_name": "lama",
   "language": "python",
   "name": "python3"
  },
  "language_info": {
   "codemirror_mode": {
    "name": "ipython",
    "version": 3
   },
   "file_extension": ".py",
   "mimetype": "text/x-python",
   "name": "python",
   "nbconvert_exporter": "python",
   "pygments_lexer": "ipython3",
   "version": "3.9.19"
  }
 },
 "nbformat": 4,
 "nbformat_minor": 2
}
