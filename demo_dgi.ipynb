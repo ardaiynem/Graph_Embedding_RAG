{
 "cells": [
  {
   "cell_type": "code",
   "execution_count": null,
   "metadata": {},
   "outputs": [],
   "source": [
    "from graph_embedding_rag import GraphEmbeddingRAG, DeepGraphInfomaxModel\n",
    "from graph_embedding_rag.config import NEO4J_URI, NEO4J_USER, NEO4J_PASSWORD"
   ]
  },
  {
   "cell_type": "code",
   "execution_count": null,
   "metadata": {},
   "outputs": [],
   "source": [
    "# 0: Initialize RAG object\n",
    "rag_dgi = GraphEmbeddingRAG(NEO4J_URI, NEO4J_USER, NEO4J_PASSWORD, model_class=DeepGraphInfomaxModel)\n",
    "\n",
    "# 1: Fetch neo4j graph data and consturct a local networkx graph\n",
    "rag_dgi.fetch_graph_data()\n",
    "\n",
    "# 2: Create embeddings from the knowledge graph by the choosen method (Node2Vec in this case)\n",
    "rag_dgi.create_embeddings()\n",
    "\n",
    "# 3: Add embeddings to the vector DB (Stored in neo4j in this case)\n",
    "rag_dgi.add_to_vector_store()\n",
    "\n",
    "# 4: Initialize the embedding model, index and query engine for llamaindex\n",
    "rag_dgi.init_index_and_query_engine()"
   ]
  },
  {
   "cell_type": "code",
   "execution_count": null,
   "metadata": {},
   "outputs": [],
   "source": [
    "# 5: Run an example prompt\n",
    "rag_dgi.run_prompt(\"Who follows Tina Guerrero ?\")"
   ]
  }
 ],
 "metadata": {
  "kernelspec": {
   "display_name": "lama",
   "language": "python",
   "name": "python3"
  },
  "language_info": {
   "codemirror_mode": {
    "name": "ipython",
    "version": 3
   },
   "file_extension": ".py",
   "mimetype": "text/x-python",
   "name": "python",
   "nbconvert_exporter": "python",
   "pygments_lexer": "ipython3",
   "version": "3.9.19"
  }
 },
 "nbformat": 4,
 "nbformat_minor": 2
}
